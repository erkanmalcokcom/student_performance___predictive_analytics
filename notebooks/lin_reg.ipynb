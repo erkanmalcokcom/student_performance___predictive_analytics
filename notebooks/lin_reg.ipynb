{
 "cells": [
  {
   "cell_type": "code",
   "execution_count": 48,
   "metadata": {},
   "outputs": [],
   "source": [
    "import pandas as pd\n",
    "import numpy as np\n",
    "from sklearn.model_selection import train_test_split\n",
    "from sklearn.linear_model import LinearRegression\n",
    "from sklearn.metrics import mean_squared_error"
   ]
  },
  {
   "cell_type": "code",
   "execution_count": 49,
   "metadata": {},
   "outputs": [],
   "source": [
    "raw_data_path = '../data/raw/student_data.csv'\n",
    "df_raw = pd.read_csv(raw_data_path)\n",
    "\n",
    "df_processed = df_raw.copy()\n",
    "\n",
    "processed_data_path = '../data/processed/student_data_processed.csv'\n",
    "df_processed.to_csv(processed_data_path, index=False)"
   ]
  },
  {
   "cell_type": "code",
   "execution_count": 51,
   "metadata": {},
   "outputs": [
    {
     "data": {
      "text/plain": [
       "<bound method NDFrame.describe of      student_id  current_grade  attendance_rate  socio_emotional_score  \\\n",
       "0             1            3.5             84.0                     82   \n",
       "1             2            3.0             97.0                     93   \n",
       "2             3            4.0             93.0                     82   \n",
       "3             4            1.0             96.0                     82   \n",
       "4             5            4.0             97.0                     92   \n",
       "..          ...            ...              ...                    ...   \n",
       "995         996            NaN              NaN                     14   \n",
       "996         997            NaN              NaN                     13   \n",
       "997         998            NaN              NaN                     12   \n",
       "998         999            NaN              NaN                     18   \n",
       "999        1000            NaN              NaN                      5   \n",
       "\n",
       "     average_grade_previous  \n",
       "0                      2.93  \n",
       "1                      2.55  \n",
       "2                      3.24  \n",
       "3                      0.96  \n",
       "4                      3.20  \n",
       "..                      ...  \n",
       "995                    0.04  \n",
       "996                    2.51  \n",
       "997                    3.53  \n",
       "998                    1.40  \n",
       "999                    2.16  \n",
       "\n",
       "[1000 rows x 5 columns]>"
      ]
     },
     "execution_count": 51,
     "metadata": {},
     "output_type": "execute_result"
    }
   ],
   "source": [
    "# Displaying the first few rows of the processed data to verify\n",
    "# df_processed.head()\n",
    "df_processed.describe"
   ]
  },
  {
   "cell_type": "code",
   "execution_count": 52,
   "metadata": {},
   "outputs": [],
   "source": [
    "df_processed = df_processed.fillna(0)"
   ]
  },
  {
   "cell_type": "code",
   "execution_count": 53,
   "metadata": {},
   "outputs": [
    {
     "data": {
      "text/html": [
       "<div>\n",
       "<style scoped>\n",
       "    .dataframe tbody tr th:only-of-type {\n",
       "        vertical-align: middle;\n",
       "    }\n",
       "\n",
       "    .dataframe tbody tr th {\n",
       "        vertical-align: top;\n",
       "    }\n",
       "\n",
       "    .dataframe thead th {\n",
       "        text-align: right;\n",
       "    }\n",
       "</style>\n",
       "<table border=\"1\" class=\"dataframe\">\n",
       "  <thead>\n",
       "    <tr style=\"text-align: right;\">\n",
       "      <th></th>\n",
       "      <th>student_id</th>\n",
       "      <th>current_grade</th>\n",
       "      <th>attendance_rate</th>\n",
       "      <th>socio_emotional_score</th>\n",
       "      <th>average_grade_previous</th>\n",
       "    </tr>\n",
       "  </thead>\n",
       "  <tbody>\n",
       "    <tr>\n",
       "      <th>0</th>\n",
       "      <td>1</td>\n",
       "      <td>3.5</td>\n",
       "      <td>84.0</td>\n",
       "      <td>82</td>\n",
       "      <td>2.93</td>\n",
       "    </tr>\n",
       "    <tr>\n",
       "      <th>1</th>\n",
       "      <td>2</td>\n",
       "      <td>3.0</td>\n",
       "      <td>97.0</td>\n",
       "      <td>93</td>\n",
       "      <td>2.55</td>\n",
       "    </tr>\n",
       "    <tr>\n",
       "      <th>2</th>\n",
       "      <td>3</td>\n",
       "      <td>4.0</td>\n",
       "      <td>93.0</td>\n",
       "      <td>82</td>\n",
       "      <td>3.24</td>\n",
       "    </tr>\n",
       "    <tr>\n",
       "      <th>3</th>\n",
       "      <td>4</td>\n",
       "      <td>1.0</td>\n",
       "      <td>96.0</td>\n",
       "      <td>82</td>\n",
       "      <td>0.96</td>\n",
       "    </tr>\n",
       "    <tr>\n",
       "      <th>4</th>\n",
       "      <td>5</td>\n",
       "      <td>4.0</td>\n",
       "      <td>97.0</td>\n",
       "      <td>92</td>\n",
       "      <td>3.20</td>\n",
       "    </tr>\n",
       "  </tbody>\n",
       "</table>\n",
       "</div>"
      ],
      "text/plain": [
       "   student_id  current_grade  attendance_rate  socio_emotional_score  \\\n",
       "0           1            3.5             84.0                     82   \n",
       "1           2            3.0             97.0                     93   \n",
       "2           3            4.0             93.0                     82   \n",
       "3           4            1.0             96.0                     82   \n",
       "4           5            4.0             97.0                     92   \n",
       "\n",
       "   average_grade_previous  \n",
       "0                    2.93  \n",
       "1                    2.55  \n",
       "2                    3.24  \n",
       "3                    0.96  \n",
       "4                    3.20  "
      ]
     },
     "execution_count": 53,
     "metadata": {},
     "output_type": "execute_result"
    }
   ],
   "source": [
    "df_processed.head()"
   ]
  },
  {
   "cell_type": "code",
   "execution_count": 54,
   "metadata": {},
   "outputs": [
    {
     "data": {
      "image/png": "[encoded data removed]",
      "text/plain": [
       "<Figure size 640x480 with 1 Axes>"
      ]
     },
     "metadata": {},
     "output_type": "display_data"
    }
   ],
   "source": [
    "from sklearn.preprocessing import QuantileTransformer\n",
    "import matplotlib.pyplot as plt\n",
    "\n",
    "# Assuming df_processed is your DataFrame and 'attendance_rate' is your column\n",
    "data = df_processed[['current_grade']]\n",
    "\n",
    "# Create a QuantileTransformer object\n",
    "qt = QuantileTransformer(n_quantiles=10, random_state=0, output_distribution='normal')\n",
    "\n",
    "# Transform the attendance_rate data\n",
    "data_trans = qt.fit_transform(data)\n",
    "\n",
    "# Plot the transformed data\n",
    "plt.hist(data_trans, bins='auto', density=True)\n",
    "plt.show()"
   ]
  },
  {
   "cell_type": "code",
   "execution_count": 55,
   "metadata": {},
   "outputs": [
    {
     "data": {
      "text/plain": [
       "count    1000.000000\n",
       "mean        1.080500\n",
       "std         1.495997\n",
       "min         0.000000\n",
       "25%         0.000000\n",
       "50%         0.000000\n",
       "75%         2.000000\n",
       "max         4.000000\n",
       "Name: current_grade, dtype: float64"
      ]
     },
     "execution_count": 55,
     "metadata": {},
     "output_type": "execute_result"
    }
   ],
   "source": [
    "df_processed['current_grade'].describe()"
   ]
  },
  {
   "cell_type": "code",
   "execution_count": 56,
   "metadata": {},
   "outputs": [
    {
     "data": {
      "text/plain": [
       "count    1000.000000\n",
       "mean        1.080500\n",
       "std         1.495997\n",
       "min         0.000000\n",
       "25%         0.000000\n",
       "50%         0.000000\n",
       "75%         2.000000\n",
       "max         4.000000\n",
       "Name: current_grade, dtype: float64"
      ]
     },
     "execution_count": 56,
     "metadata": {},
     "output_type": "execute_result"
    }
   ],
   "source": [
    "df_processed['current_grade'].describe()"
   ]
  },
  {
   "cell_type": "code",
   "execution_count": 57,
   "metadata": {},
   "outputs": [
    {
     "name": "stdout",
     "output_type": "stream",
     "text": [
      "0.0 2.0 2.0\n",
      "-3.0\n",
      "Empty DataFrame\n",
      "Columns: [student_id, current_grade, attendance_rate, socio_emotional_score, average_grade_previous]\n",
      "Index: []\n"
     ]
    }
   ],
   "source": [
    "# Calculate Q1, Q3 and IQR\n",
    "Q1 = df_processed['current_grade'].quantile(0.25)\n",
    "Q3 = df_processed['current_grade'].quantile(0.75)\n",
    "IQR = Q3 - Q1\n",
    "print(Q1, Q3, IQR)\n",
    "\n",
    "\n",
    "# Define the outlier boundaries\n",
    "lower_bound = Q1 - 1.5 * IQR\n",
    "upper_bound = Q3 + 1.5 * IQR\n",
    "\n",
    "# Identify the outliers\n",
    "print(lower_bound)\n",
    "outliers_lower = df_processed[df_processed['current_grade'] < lower_bound]\n",
    "print(outliers_lower)"
   ]
  },
  {
   "cell_type": "code",
   "execution_count": 60,
   "metadata": {},
   "outputs": [
    {
     "name": "stdout",
     "output_type": "stream",
     "text": [
      "Root Mean Squared Error: 0.595865308406252\n"
     ]
    }
   ],
   "source": [
    "df = pd.DataFrame(df_processed)\n",
    "\n",
    "# Defining features and target variable\n",
    "X = df[['attendance_rate', 'average_grade_previous', 'socio_emotional_score']]\n",
    "\n",
    "y = df['current_grade']\n",
    "\n",
    "# Splitting the dataset into training and testing sets\n",
    "X_train, X_test, y_train, y_test = train_test_split(X, y, test_size=0.2, random_state=42)\n",
    "\n",
    "# Initializing and training the linear regression model\n",
    "model = LinearRegression()\n",
    "model.fit(X_train, y_train)\n",
    "\n",
    "# Predicting on the test set\n",
    "y_pred = model.predict(X_test)\n",
    "\n",
    "# Evaluating the model\n",
    "rmse = np.sqrt(mean_squared_error(y_test, y_pred))\n",
    "print(f'Root Mean Squared Error: {rmse}')"
   ]
  },
  {
   "cell_type": "code",
   "execution_count": 76,
   "metadata": {},
   "outputs": [
    {
     "name": "stdout",
     "output_type": "stream",
     "text": [
      "coefficient of determination: 0.7495966251138937\n",
      "intercept: 0.006450048176583456\n",
      "slope: [0.02758643]\n"
     ]
    }
   ],
   "source": [
    "from sklearn.linear_model import LinearRegression\n",
    "import numpy as np\n",
    "\n",
    "# Reshape your data since sklearn requires you to\n",
    "# X = df_processed[df_processed['attendance_rate'] > 90]['average_grade_previous'].values.reshape(-1,1)\n",
    "# y = df_processed[df_processed['attendance_rate'] > 90]['current_grade'].values\n",
    "\n",
    "X = df_processed['attendance_rate'].values.reshape(-1,1)\n",
    "y = df_processed['current_grade'].values\n",
    "\n",
    "\n",
    "# Create a LinearRegression object\n",
    "reg = LinearRegression()\n",
    "\n",
    "# Fit the model\n",
    "reg.fit(X, y)\n",
    "\n",
    "# Get the coefficient of determination (R^2)\n",
    "r_sq = reg.score(X, y)\n",
    "\n",
    "# Print the coefficient of determination\n",
    "print('coefficient of determination:', r_sq)\n",
    "\n",
    "# Print the intercept and slope\n",
    "print('intercept:', reg.intercept_)\n",
    "print('slope:', reg.coef_)"
   ]
  },
  {
   "cell_type": "markdown",
   "metadata": {},
   "source": [
    "Coefficient - 0.87 (for all is 0.75) is higher for when the attendance is higher than 90%. If you want to check the cofficient for the other cases, you can check the code below."
   ]
  },
  {
   "cell_type": "code",
   "execution_count": 75,
   "metadata": {},
   "outputs": [
    {
     "data": {
      "text/plain": [
       "0.8657924838631327"
      ]
     },
     "execution_count": 75,
     "metadata": {},
     "output_type": "execute_result"
    }
   ],
   "source": [
    "correlation = df_processed['attendance_rate'].corr(df_processed['current_grade'])\n",
    "correlation"
   ]
  },
  {
   "cell_type": "markdown",
   "metadata": {},
   "source": [
    "*Conclusion:* The attendance is the most important feature for the prediction of the result. If the attendance is higher than 90%, the student will pass the course with a high probability. That is the reason everyone should focus on the attendance without any doubt."
   ]
  },
  {
   "cell_type": "markdown",
   "metadata": {},
   "source": [
    "Explanation:\n",
    "\n",
    "A linear regression model is chosen for its simplicity and interpretability, suitable for a baseline model.\n",
    "\n",
    "Please note that this is a simplified example. In a real-world application, you'd need a more comprehensive dataset, thorough data cleaning, feature engineering, and possibly more complex models depending on the problem's complexity and data characteristics. Remember, the goal of predictive modelling, especially in sensitive areas like education, is not just to achieve low error metrics but also to ensure that the model's predictions are interpretable, actionable, and lead to positive interventions.\n",
    "\n",
    "* We define our features (X) and the target variable (y) we aim to predict.\n",
    "\n",
    "* The data is split into training and testing sets to evaluate the model's performance on unseen data.\n",
    "\n",
    "* The model is trained on the training set and then used to make predictions on the test set.\n",
    "We use Root Mean Squared Error (RMSE) to evaluate the model, providing an idea of how off the predictions are from the actual values on average.\n",
    "\n"
   ]
  },
  {
   "cell_type": "markdown",
   "metadata": {},
   "source": []
  }
 ],
 "metadata": {
  "kernelspec": {
   "display_name": "env",
   "language": "python",
   "name": "python3"
  },
  "language_info": {
   "codemirror_mode": {
    "name": "ipython",
    "version": 3
   },
   "file_extension": ".py",
   "mimetype": "text/x-python",
   "name": "python",
   "nbconvert_exporter": "python",
   "pygments_lexer": "ipython3",
   "version": "3.10.13"
  }
 },
 "nbformat": 4,
 "nbformat_minor": 2
}
